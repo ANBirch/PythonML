{
 "cells": [
  {
   "cell_type": "markdown",
   "metadata": {},
   "source": [
    "# Using Learning Rate Schedules for Deep Learning Models in Python with Keras\n",
    "http://machinelearningmastery.com/using-learning-rate-schedules-deep-learning-models-python-keras/"
   ]
  },
  {
   "cell_type": "markdown",
   "metadata": {},
   "source": [
    "Training a neural network or large deep learning model is a difficult optimization task.\n",
    "\n",
    "The classical algorithm to train neural networks is called [stochastic gradient descent](http://machinelearningmastery.com/gradient-descent-for-machine-learning/). It has been well established that you can achieve increased performance and faster training on some problems by using a learning rate that changes during training.\n",
    "\n",
    "In this post you will discover how you can use different learning rate schedules for your neural network models in Python using the Keras deep learning library.\n",
    "\n",
    "After reading this post you will know:\n",
    "\n",
    "- How to configure and evaluate a time-based learning rate schedule.\n",
    "- How to configure and evaluate a drop-based learning rate schedule.\n",
    "\n",
    "Let’s get started.\n",
    "\n",
    "## Learning Rate Schedule For Training Models\n",
    "\n",
    "Adapting the learning rate for your stochastic gradient descent optimization procedure can increase performance and reduce training time.\n",
    "\n",
    "Sometimes this is called learning rate annealing or adaptive learning rates. Here we will call this approach a learning rate schedule, were the default schedule is to use a constant learning rate to update network weights for each training epoch.\n",
    "\n",
    "The simplest and perhaps most used adaptation of learning rate during training are techniques that reduce the learning rate over time. These have the benefit of making large changes at the beginning of the training procedure when larger learning rate values are used, and decreasing the learning rate such that a smaller rate and therefore smaller training updates are made to weights later in the training procedure.\n",
    "\n",
    "This has the effect of quickly learning good weights early and fine tuning them later.\n",
    "\n",
    "Two popular and easy to use learning rate schedules are as follows:\n",
    "\n",
    "- Decrease the learning rate gradually based on the epoch.\n",
    "- Decrease the learning rate using punctuated large drops at specific epochs.\n",
    "\n",
    "Next, we will look at how you can use each of these learning rate schedules in turn with Keras."
   ]
  },
  {
   "cell_type": "markdown",
   "metadata": {},
   "source": [
    "## Time-Based Learning Rate Schedule\n",
    "\n",
    "Keras has a time-based learning rate schedule built in.\n",
    "\n",
    "The stochastic gradient descent optimization algorithm implementation in the SGD class has an argument called decay. This argument is used in the time-based learning rate decay schedule equation as follows:"
   ]
  },
  {
   "cell_type": "markdown",
   "metadata": {},
   "source": [
    "```\n",
    "LearningRate = LearningRate * 1/(1 + decay * epoch)\n",
    "```"
   ]
  },
  {
   "cell_type": "markdown",
   "metadata": {},
   "source": [
    "When the decay argument is zero (the default), this has no effect on the learning rate."
   ]
  },
  {
   "cell_type": "markdown",
   "metadata": {},
   "source": [
    "```\n",
    "LearningRate = 0.1 * 1/(1 + 0.0 * 1)\n",
    "LearningRate = 0.1\n",
    "```"
   ]
  },
  {
   "cell_type": "markdown",
   "metadata": {},
   "source": [
    "When the decay argument is specified, it will decrease the learning rate from the previous epoch by the given fixed amount.\n",
    "\n",
    "For example, if we use the initial learning rate value of 0.1 and the decay of 0.001, the first 5 epochs will adapt the learning rate as follows:"
   ]
  },
  {
   "cell_type": "markdown",
   "metadata": {},
   "source": [
    "```\n",
    "Epoch\tLearning Rate\n",
    "1\t\t0.1\n",
    "2\t\t0.0999000999\n",
    "3\t\t0.0997006985\n",
    "4\t\t0.09940249103\n",
    "5\t\t0.09900646517\n",
    "```"
   ]
  },
  {
   "cell_type": "markdown",
   "metadata": {},
   "source": [
    "Extending this out to 100 epochs will produce the following graph of learning rate (y axis) versus epoch (x axis):"
   ]
  },
  {
   "cell_type": "code",
   "execution_count": 9,
   "metadata": {
    "collapsed": true
   },
   "outputs": [],
   "source": [
    "import numpy as np\n",
    "import matplotlib.pyplot as plt\n",
    "%matplotlib inline"
   ]
  },
  {
   "cell_type": "code",
   "execution_count": 29,
   "metadata": {
    "collapsed": false
   },
   "outputs": [
    {
     "data": {
      "image/png": "[encoded data removed]",
      "text/plain": [
       "<matplotlib.figure.Figure at 0xb861470>"
      ]
     },
     "metadata": {},
     "output_type": "display_data"
    }
   ],
   "source": [
    "LearningRate = 0.1\n",
    "decay = 0.1\n",
    "epoch = 100\n",
    "\n",
    "x = np.asarray(range(epoch))\n",
    "LR = LearningRate * 1/(1 + decay * x)\n",
    "\n",
    "plt.plot(LR);"
   ]
  },
  {
   "cell_type": "markdown",
   "metadata": {},
   "source": [
    "The example below demonstrates using the time-based learning rate adaptation schedule in Keras.\n",
    "\n",
    "It is demonstrated on the [Ionosphere binary classification problem](http://archive.ics.uci.edu/ml/datasets/Ionosphere). This is a small dataset that you can [download from the UCI Machine Learning repository](http://archive.ics.uci.edu/ml/machine-learning-databases/ionosphere/ionosphere.data). Place the data file in your working directory with the filename ionosphere.csv.\n",
    "\n",
    "The ionosphere dataset is good for practicing with neural networks because all of the input values are small numerical values of the same scale.\n",
    "\n",
    "A small neural network model is constructed with a single hidden layer with 34 neurons and using the rectifier activation function. The output layer has a single neuron and uses the sigmoid activation function in order to output probability-like values.\n",
    "\n",
    "The learning rate for stochastic gradient descent has been set to a higher value of 0.1. The model is trained for 50 epochs and the decay argument has been set to 0.002, calculated as 0.1/50. Additionally, it can be a good idea to use momentum when using an adaptive learning rate. In this case we use a momentum value of 0.8.\n",
    "\n",
    "The complete example is listed below."
   ]
  },
  {
   "cell_type": "code",
   "execution_count": 30,
   "metadata": {
    "collapsed": false,
    "scrolled": true
   },
   "outputs": [
    {
     "name": "stderr",
     "output_type": "stream",
     "text": [
      "Using Theano backend.\n"
     ]
    },
    {
     "name": "stdout",
     "output_type": "stream",
     "text": [
      "Train on 235 samples, validate on 116 samples\n",
      "Epoch 1/50\n",
      "235/235 [==============================] - 0s - loss: 0.6756 - acc: 0.7277 - val_loss: 0.6029 - val_acc: 0.8621\n",
      "Epoch 2/50\n",
      "235/235 [==============================] - 0s - loss: 0.6179 - acc: 0.7787 - val_loss: 0.4956 - val_acc: 0.8793\n",
      "Epoch 3/50\n",
      "235/235 [==============================] - 0s - loss: 0.5326 - acc: 0.8170 - val_loss: 0.4504 - val_acc: 0.9483\n",
      "Epoch 4/50\n",
      "235/235 [==============================] - 0s - loss: 0.4405 - acc: 0.8298 - val_loss: 0.4003 - val_acc: 0.9397\n",
      "Epoch 5/50\n",
      "235/235 [==============================] - 0s - loss: 0.3678 - acc: 0.8681 - val_loss: 0.4080 - val_acc: 0.8793\n",
      "Epoch 6/50\n",
      "235/235 [==============================] - 0s - loss: 0.3104 - acc: 0.8979 - val_loss: 0.2980 - val_acc: 0.9397\n",
      "Epoch 7/50\n",
      "235/235 [==============================] - 0s - loss: 0.2732 - acc: 0.9234 - val_loss: 0.1971 - val_acc: 0.9569\n",
      "Epoch 8/50\n",
      "235/235 [==============================] - 0s - loss: 0.2313 - acc: 0.9106 - val_loss: 0.2190 - val_acc: 0.9397\n",
      "Epoch 9/50\n",
      "235/235 [==============================] - 0s - loss: 0.2148 - acc: 0.9191 - val_loss: 0.1976 - val_acc: 0.9483\n",
      "Epoch 10/50\n",
      "235/235 [==============================] - 0s - loss: 0.1930 - acc: 0.9319 - val_loss: 0.2361 - val_acc: 0.9138\n",
      "Epoch 11/50\n",
      "235/235 [==============================] - 0s - loss: 0.2077 - acc: 0.9319 - val_loss: 0.1159 - val_acc: 0.9741\n",
      "Epoch 12/50\n",
      "235/235 [==============================] - 0s - loss: 0.1728 - acc: 0.9447 - val_loss: 0.1710 - val_acc: 0.9655\n",
      "Epoch 13/50\n",
      "235/235 [==============================] - 0s - loss: 0.1521 - acc: 0.9532 - val_loss: 0.1326 - val_acc: 0.9828\n",
      "Epoch 14/50\n",
      "235/235 [==============================] - 0s - loss: 0.1465 - acc: 0.9404 - val_loss: 0.2271 - val_acc: 0.9138\n",
      "Epoch 15/50\n",
      "235/235 [==============================] - 0s - loss: 0.1560 - acc: 0.9489 - val_loss: 0.0976 - val_acc: 0.9741\n",
      "Epoch 16/50\n",
      "235/235 [==============================] - 0s - loss: 0.1421 - acc: 0.9532 - val_loss: 0.1386 - val_acc: 0.9828\n",
      "Epoch 17/50\n",
      "235/235 [==============================] - 0s - loss: 0.1251 - acc: 0.9702 - val_loss: 0.1153 - val_acc: 0.9828\n",
      "Epoch 18/50\n",
      "235/235 [==============================] - 0s - loss: 0.1186 - acc: 0.9702 - val_loss: 0.1434 - val_acc: 0.9655\n",
      "Epoch 19/50\n",
      "235/235 [==============================] - 0s - loss: 0.1195 - acc: 0.9574 - val_loss: 0.1024 - val_acc: 0.9914\n",
      "Epoch 20/50\n",
      "235/235 [==============================] - 0s - loss: 0.1130 - acc: 0.9617 - val_loss: 0.0881 - val_acc: 0.9828\n",
      "Epoch 21/50\n",
      "235/235 [==============================] - 0s - loss: 0.1122 - acc: 0.9702 - val_loss: 0.0946 - val_acc: 0.9828\n",
      "Epoch 22/50\n",
      "235/235 [==============================] - 0s - loss: 0.1029 - acc: 0.9787 - val_loss: 0.1179 - val_acc: 0.9914\n",
      "Epoch 23/50\n",
      "235/235 [==============================] - 0s - loss: 0.0987 - acc: 0.9787 - val_loss: 0.0930 - val_acc: 0.9914\n",
      "Epoch 24/50\n",
      "235/235 [==============================] - 0s - loss: 0.1022 - acc: 0.9745 - val_loss: 0.0962 - val_acc: 0.9828\n",
      "Epoch 25/50\n",
      "235/235 [==============================] - 0s - loss: 0.0967 - acc: 0.9745 - val_loss: 0.1064 - val_acc: 0.9828\n",
      "Epoch 26/50\n",
      "235/235 [==============================] - 0s - loss: 0.0935 - acc: 0.9787 - val_loss: 0.0855 - val_acc: 0.9828\n",
      "Epoch 27/50\n",
      "235/235 [==============================] - 0s - loss: 0.0893 - acc: 0.9787 - val_loss: 0.1086 - val_acc: 0.9914\n",
      "Epoch 28/50\n",
      "235/235 [==============================] - 0s - loss: 0.0898 - acc: 0.9745 - val_loss: 0.0832 - val_acc: 0.9828\n",
      "Epoch 29/50\n",
      "235/235 [==============================] - 0s - loss: 0.0853 - acc: 0.9787 - val_loss: 0.0853 - val_acc: 0.9914\n",
      "Epoch 30/50\n",
      "235/235 [==============================] - 0s - loss: 0.0853 - acc: 0.9745 - val_loss: 0.1001 - val_acc: 0.9914\n",
      "Epoch 31/50\n",
      "235/235 [==============================] - 0s - loss: 0.0812 - acc: 0.9787 - val_loss: 0.0761 - val_acc: 0.9828\n",
      "Epoch 32/50\n",
      "235/235 [==============================] - 0s - loss: 0.0836 - acc: 0.9830 - val_loss: 0.0799 - val_acc: 0.9828\n",
      "Epoch 33/50\n",
      "235/235 [==============================] - 0s - loss: 0.0765 - acc: 0.9830 - val_loss: 0.0929 - val_acc: 0.9828\n",
      "Epoch 34/50\n",
      "235/235 [==============================] - 0s - loss: 0.0770 - acc: 0.9830 - val_loss: 0.0689 - val_acc: 0.9828\n",
      "Epoch 35/50\n",
      "235/235 [==============================] - 0s - loss: 0.0793 - acc: 0.9830 - val_loss: 0.0842 - val_acc: 0.9914\n",
      "Epoch 36/50\n",
      "235/235 [==============================] - 0s - loss: 0.0714 - acc: 0.9787 - val_loss: 0.0835 - val_acc: 0.9914\n",
      "Epoch 37/50\n",
      "235/235 [==============================] - 0s - loss: 0.0701 - acc: 0.9830 - val_loss: 0.0765 - val_acc: 0.9914\n",
      "Epoch 38/50\n",
      "235/235 [==============================] - 0s - loss: 0.0679 - acc: 0.9830 - val_loss: 0.0955 - val_acc: 0.9914\n",
      "Epoch 39/50\n",
      "235/235 [==============================] - 0s - loss: 0.0725 - acc: 0.9830 - val_loss: 0.0765 - val_acc: 0.9914\n",
      "Epoch 40/50\n",
      "235/235 [==============================] - 0s - loss: 0.0664 - acc: 0.9787 - val_loss: 0.0776 - val_acc: 0.9914\n",
      "Epoch 41/50\n",
      "235/235 [==============================] - 0s - loss: 0.0629 - acc: 0.9830 - val_loss: 0.0751 - val_acc: 0.9914\n",
      "Epoch 42/50\n",
      "235/235 [==============================] - 0s - loss: 0.0647 - acc: 0.9830 - val_loss: 0.0976 - val_acc: 0.9914\n",
      "Epoch 43/50\n",
      "235/235 [==============================] - 0s - loss: 0.0648 - acc: 0.9830 - val_loss: 0.0812 - val_acc: 0.9914\n",
      "Epoch 44/50\n",
      "235/235 [==============================] - 0s - loss: 0.0623 - acc: 0.9872 - val_loss: 0.0763 - val_acc: 0.9914\n",
      "Epoch 45/50\n",
      "235/235 [==============================] - 0s - loss: 0.0607 - acc: 0.9830 - val_loss: 0.0732 - val_acc: 0.9914\n",
      "Epoch 46/50\n",
      "235/235 [==============================] - 0s - loss: 0.0570 - acc: 0.9830 - val_loss: 0.0867 - val_acc: 0.9914\n",
      "Epoch 47/50\n",
      "235/235 [==============================] - 0s - loss: 0.0584 - acc: 0.9830 - val_loss: 0.0808 - val_acc: 0.9914\n",
      "Epoch 48/50\n",
      "235/235 [==============================] - 0s - loss: 0.0610 - acc: 0.9872 - val_loss: 0.0653 - val_acc: 0.9828\n",
      "Epoch 49/50\n",
      "235/235 [==============================] - 0s - loss: 0.0591 - acc: 0.9830 - val_loss: 0.0821 - val_acc: 0.9914\n",
      "Epoch 50/50\n",
      "235/235 [==============================] - 0s - loss: 0.0598 - acc: 0.9872 - val_loss: 0.0739 - val_acc: 0.9914\n"
     ]
    },
    {
     "data": {
      "text/plain": [
       "<keras.callbacks.History at 0x2273a7f0>"
      ]
     },
     "execution_count": 30,
     "metadata": {},
     "output_type": "execute_result"
    }
   ],
   "source": [
    "import pandas\n",
    "import numpy\n",
    "from keras.models import Sequential\n",
    "from keras.layers import Dense\n",
    "from keras.optimizers import SGD\n",
    "from sklearn.preprocessing import LabelEncoder\n",
    "\n",
    "# fix random seed for reproducibility\n",
    "seed = 7\n",
    "numpy.random.seed(seed)\n",
    "\n",
    "# load dataset\n",
    "dataframe = pandas.read_csv(\"Data\\ionosphere.csv\", header=None)\n",
    "dataset = dataframe.values\n",
    "\n",
    "# split into input (X) and output (Y) variables\n",
    "X = dataset[:,0:34].astype(float)\n",
    "Y = dataset[:,34]\n",
    "\n",
    "# encode class values as integers\n",
    "encoder = LabelEncoder()\n",
    "encoder.fit(Y)\n",
    "Y = encoder.transform(Y)\n",
    "\n",
    "# create model\n",
    "model = Sequential()\n",
    "model.add(Dense(34, input_dim=34, init='normal', activation='relu'))\n",
    "model.add(Dense(1, init='normal', activation='sigmoid'))\n",
    "\n",
    "# Compile model\n",
    "epochs = 50\n",
    "learning_rate = 0.1\n",
    "decay_rate = learning_rate / epochs\n",
    "momentum = 0.8\n",
    "sgd = SGD(lr=learning_rate, momentum=momentum, decay=decay_rate, nesterov=False)\n",
    "model.compile(loss='binary_crossentropy', optimizer=sgd, metrics=['accuracy'])\n",
    "\n",
    "# Fit the model\n",
    "model.fit(X, Y, validation_split=0.33, nb_epoch=epochs, batch_size=28)"
   ]
  },
  {
   "cell_type": "markdown",
   "metadata": {},
   "source": [
    "The model is trained on 67% of the dataset and evaluated using a 33% validation dataset.\n",
    "\n",
    "Running the example shows a classification accuracy of 99.14%. This is higher than the baseline of 95.69% without the learning rate decay or momentum."
   ]
  },
  {
   "cell_type": "markdown",
   "metadata": {},
   "source": [
    "## Drop-Based Learning Rate Schedule\n",
    "\n",
    "Another popular learning rate schedule used with deep learning models is to systematically drop the learning rate at specific times during training.\n",
    "\n",
    "Often this method is implemented by dropping the learning rate by half every fixed number of epochs. For example, we may have an initial learning rate of 0.1 and drop it by 0.5 every 10 epochs. The first 10 epochs of training would use a value of 0.1, in the next 10 epochs a learning rate of 0.05 would be used, and so on.\n",
    "\n",
    "If we plot out the learning rates for this example out to 100 epochs you get the graph below showing learning rate (y axis) versus epoch (x axis)."
   ]
  },
  {
   "cell_type": "markdown",
   "metadata": {},
   "source": [
    "![](img\\Drop-Based-Learning-Rate-Schedule.png)"
   ]
  },
  {
   "cell_type": "markdown",
   "metadata": {},
   "source": [
    "We can implement this in Keras using a the [LearningRateScheduler](http://keras.io/callbacks/) callback when fitting the model.\n",
    "\n",
    "The LearningRateScheduler callback allows us to define a function to call that takes the epoch number as an argument and returns the learning rate to use in stochastic gradient descent. When used, the learning rate specified by stochastic gradient descent is ignored.\n",
    "\n",
    "In the code below, we use the same example before of a single hidden layer network on the Ionosphere dataset. A new step_decay() function is defined that implements the equation:"
   ]
  },
  {
   "cell_type": "markdown",
   "metadata": {},
   "source": [
    "```\n",
    "LearningRate = InitialLearningRate * DropRate^floor(Epoch / EpochDrop)\n",
    "```"
   ]
  },
  {
   "cell_type": "markdown",
   "metadata": {},
   "source": [
    "Where InitialLearningRate is the initial learning rate such as 0.1, the DropRate is the amount that the learning rate is modified each time it is changed such as 0.5, Epoch is the current epoch number and EpochDrop is how often to change the learning rate such as 10.\n",
    "\n",
    "Notice that we set the learning rate in the SGD class to 0 to clearly indicate that it is not used. Nevertheless, you can set a momentum term in SGD if you want to use momentum with this learning rate schedule."
   ]
  },
  {
   "cell_type": "code",
   "execution_count": 31,
   "metadata": {
    "collapsed": false,
    "scrolled": true
   },
   "outputs": [
    {
     "name": "stdout",
     "output_type": "stream",
     "text": [
      "Train on 235 samples, validate on 116 samples\n",
      "Epoch 1/50\n",
      "235/235 [==============================] - 0s - loss: 0.6742 - acc: 0.7277 - val_loss: 0.5805 - val_acc: 0.8707\n",
      "Epoch 2/50\n",
      "235/235 [==============================] - 0s - loss: 0.5959 - acc: 0.7745 - val_loss: 0.4430 - val_acc: 0.8879\n",
      "Epoch 3/50\n",
      "235/235 [==============================] - 0s - loss: 0.4660 - acc: 0.8043 - val_loss: 0.3540 - val_acc: 0.9397\n",
      "Epoch 4/50\n",
      "235/235 [==============================] - 0s - loss: 0.3386 - acc: 0.8766 - val_loss: 0.3263 - val_acc: 0.8879\n",
      "Epoch 5/50\n",
      "235/235 [==============================] - 0s - loss: 0.2724 - acc: 0.8851 - val_loss: 0.3341 - val_acc: 0.8879\n",
      "Epoch 6/50\n",
      "235/235 [==============================] - 0s - loss: 0.2235 - acc: 0.9191 - val_loss: 0.2656 - val_acc: 0.8966\n",
      "Epoch 7/50\n",
      "235/235 [==============================] - 0s - loss: 0.1990 - acc: 0.9362 - val_loss: 0.1792 - val_acc: 0.9741\n",
      "Epoch 8/50\n",
      "235/235 [==============================] - 0s - loss: 0.1568 - acc: 0.9532 - val_loss: 0.1228 - val_acc: 0.9828\n",
      "Epoch 9/50\n",
      "235/235 [==============================] - 0s - loss: 0.1439 - acc: 0.9489 - val_loss: 0.1625 - val_acc: 0.9655\n",
      "Epoch 10/50\n",
      "235/235 [==============================] - 0s - loss: 0.1204 - acc: 0.9617 - val_loss: 0.1006 - val_acc: 0.9828\n",
      "Epoch 11/50\n",
      "235/235 [==============================] - 0s - loss: 0.1344 - acc: 0.9574 - val_loss: 0.0684 - val_acc: 0.9828\n",
      "Epoch 12/50\n",
      "235/235 [==============================] - 0s - loss: 0.1145 - acc: 0.9574 - val_loss: 0.1125 - val_acc: 0.9914\n",
      "Epoch 13/50\n",
      "235/235 [==============================] - 0s - loss: 0.1111 - acc: 0.9660 - val_loss: 0.0783 - val_acc: 0.9828\n",
      "Epoch 14/50\n",
      "235/235 [==============================] - 0s - loss: 0.1058 - acc: 0.9617 - val_loss: 0.1061 - val_acc: 0.9828\n",
      "Epoch 15/50\n",
      "235/235 [==============================] - 0s - loss: 0.1182 - acc: 0.9574 - val_loss: 0.0699 - val_acc: 0.9828\n",
      "Epoch 16/50\n",
      "235/235 [==============================] - 0s - loss: 0.1068 - acc: 0.9660 - val_loss: 0.0841 - val_acc: 0.9914\n",
      "Epoch 17/50\n",
      "235/235 [==============================] - 0s - loss: 0.0972 - acc: 0.9745 - val_loss: 0.0806 - val_acc: 0.9914\n",
      "Epoch 18/50\n",
      "235/235 [==============================] - 0s - loss: 0.0873 - acc: 0.9745 - val_loss: 0.0756 - val_acc: 0.9828\n",
      "Epoch 19/50\n",
      "235/235 [==============================] - 0s - loss: 0.0875 - acc: 0.9702 - val_loss: 0.0916 - val_acc: 0.9914\n",
      "Epoch 20/50\n",
      "235/235 [==============================] - 0s - loss: 0.0727 - acc: 0.9872 - val_loss: 0.0638 - val_acc: 0.9828\n",
      "Epoch 21/50\n",
      "235/235 [==============================] - 0s - loss: 0.0733 - acc: 0.9830 - val_loss: 0.0728 - val_acc: 0.9914\n",
      "Epoch 22/50\n",
      "235/235 [==============================] - 0s - loss: 0.0688 - acc: 0.9830 - val_loss: 0.0743 - val_acc: 0.9914\n",
      "Epoch 23/50\n",
      "235/235 [==============================] - 0s - loss: 0.0675 - acc: 0.9830 - val_loss: 0.0719 - val_acc: 0.9914\n",
      "Epoch 24/50\n",
      "235/235 [==============================] - 0s - loss: 0.0666 - acc: 0.9830 - val_loss: 0.0688 - val_acc: 0.9914\n",
      "Epoch 25/50\n",
      "235/235 [==============================] - 0s - loss: 0.0660 - acc: 0.9830 - val_loss: 0.0670 - val_acc: 0.9914\n",
      "Epoch 26/50\n",
      "235/235 [==============================] - 0s - loss: 0.0659 - acc: 0.9830 - val_loss: 0.0769 - val_acc: 0.9914\n",
      "Epoch 27/50\n",
      "235/235 [==============================] - 0s - loss: 0.0645 - acc: 0.9830 - val_loss: 0.0660 - val_acc: 0.9914\n",
      "Epoch 28/50\n",
      "235/235 [==============================] - 0s - loss: 0.0623 - acc: 0.9830 - val_loss: 0.0788 - val_acc: 0.9914\n",
      "Epoch 29/50\n",
      "235/235 [==============================] - 0s - loss: 0.0623 - acc: 0.9830 - val_loss: 0.0701 - val_acc: 0.9914\n",
      "Epoch 30/50\n",
      "235/235 [==============================] - 0s - loss: 0.0616 - acc: 0.9830 - val_loss: 0.0612 - val_acc: 0.9914\n",
      "Epoch 31/50\n",
      "235/235 [==============================] - 0s - loss: 0.0604 - acc: 0.9830 - val_loss: 0.0664 - val_acc: 0.9914\n",
      "Epoch 32/50\n",
      "235/235 [==============================] - 0s - loss: 0.0603 - acc: 0.9830 - val_loss: 0.0737 - val_acc: 0.9914\n",
      "Epoch 33/50\n",
      "235/235 [==============================] - 0s - loss: 0.0585 - acc: 0.9830 - val_loss: 0.0684 - val_acc: 0.9914\n",
      "Epoch 34/50\n",
      "235/235 [==============================] - 0s - loss: 0.0582 - acc: 0.9830 - val_loss: 0.0666 - val_acc: 0.9914\n",
      "Epoch 35/50\n",
      "235/235 [==============================] - 0s - loss: 0.0580 - acc: 0.9830 - val_loss: 0.0675 - val_acc: 0.9914\n",
      "Epoch 36/50\n",
      "235/235 [==============================] - 0s - loss: 0.0572 - acc: 0.9830 - val_loss: 0.0721 - val_acc: 0.9914\n",
      "Epoch 37/50\n",
      "235/235 [==============================] - 0s - loss: 0.0577 - acc: 0.9872 - val_loss: 0.0755 - val_acc: 0.9914\n",
      "Epoch 38/50\n",
      "235/235 [==============================] - 0s - loss: 0.0579 - acc: 0.9830 - val_loss: 0.0663 - val_acc: 0.9914\n",
      "Epoch 39/50\n",
      "235/235 [==============================] - 0s - loss: 0.0556 - acc: 0.9830 - val_loss: 0.0702 - val_acc: 0.9914\n",
      "Epoch 40/50\n",
      "235/235 [==============================] - 0s - loss: 0.0560 - acc: 0.9830 - val_loss: 0.0738 - val_acc: 0.9914\n",
      "Epoch 41/50\n",
      "235/235 [==============================] - 0s - loss: 0.0554 - acc: 0.9830 - val_loss: 0.0704 - val_acc: 0.9914\n",
      "Epoch 42/50\n",
      "235/235 [==============================] - 0s - loss: 0.0553 - acc: 0.9830 - val_loss: 0.0657 - val_acc: 0.9914\n",
      "Epoch 43/50\n",
      "235/235 [==============================] - 0s - loss: 0.0548 - acc: 0.9830 - val_loss: 0.0646 - val_acc: 0.9914\n",
      "Epoch 44/50\n",
      "235/235 [==============================] - 0s - loss: 0.0542 - acc: 0.9830 - val_loss: 0.0711 - val_acc: 0.9914\n",
      "Epoch 45/50\n",
      "235/235 [==============================] - 0s - loss: 0.0546 - acc: 0.9830 - val_loss: 0.0705 - val_acc: 0.9914\n",
      "Epoch 46/50\n",
      "235/235 [==============================] - 0s - loss: 0.0542 - acc: 0.9830 - val_loss: 0.0676 - val_acc: 0.9914\n",
      "Epoch 47/50\n",
      "235/235 [==============================] - 0s - loss: 0.0538 - acc: 0.9830 - val_loss: 0.0668 - val_acc: 0.9914\n",
      "Epoch 48/50\n",
      "235/235 [==============================] - 0s - loss: 0.0539 - acc: 0.9830 - val_loss: 0.0708 - val_acc: 0.9914\n",
      "Epoch 49/50\n",
      "235/235 [==============================] - 0s - loss: 0.0539 - acc: 0.9830 - val_loss: 0.0674 - val_acc: 0.9914\n",
      "Epoch 50/50\n",
      "235/235 [==============================] - 0s - loss: 0.0531 - acc: 0.9830 - val_loss: 0.0694 - val_acc: 0.9914\n"
     ]
    },
    {
     "data": {
      "text/plain": [
       "<keras.callbacks.History at 0x234af940>"
      ]
     },
     "execution_count": 31,
     "metadata": {},
     "output_type": "execute_result"
    }
   ],
   "source": [
    "import pandas\n",
    "import numpy\n",
    "import math\n",
    "from keras.models import Sequential\n",
    "from keras.layers import Dense\n",
    "from keras.optimizers import SGD\n",
    "from sklearn.preprocessing import LabelEncoder\n",
    "from keras.callbacks import LearningRateScheduler\n",
    "\n",
    "# learning rate schedule\n",
    "def step_decay(epoch):\n",
    "    initial_lrate = 0.1\n",
    "    drop = 0.5\n",
    "    epochs_drop = 10.0\n",
    "    lrate = initial_lrate * math.pow(drop, math.floor((1+epoch)/epochs_drop))\n",
    "    return lrate\n",
    "\n",
    "# fix random seed for reproducibility\n",
    "seed = 7\n",
    "numpy.random.seed(seed)\n",
    "\n",
    "# load dataset\n",
    "dataframe = pandas.read_csv(\"Data\\ionosphere.csv\", header=None)\n",
    "dataset = dataframe.values\n",
    "\n",
    "# split into input (X) and output (Y) variables\n",
    "X = dataset[:,0:34].astype(float)\n",
    "Y = dataset[:,34]\n",
    "\n",
    "# encode class values as integers\n",
    "encoder = LabelEncoder()\n",
    "encoder.fit(Y)\n",
    "Y = encoder.transform(Y)\n",
    "\n",
    "# create model\n",
    "model = Sequential()\n",
    "model.add(Dense(34, input_dim=34, init='normal', activation='relu'))\n",
    "model.add(Dense(1, init='normal', activation='sigmoid'))\n",
    "\n",
    "# Compile model\n",
    "sgd = SGD(lr=0.0, momentum=0.9, decay=0.0, nesterov=False)\n",
    "model.compile(loss='binary_crossentropy', optimizer=sgd, metrics=['accuracy'])\n",
    "\n",
    "# learning schedule callback\n",
    "lrate = LearningRateScheduler(step_decay)\n",
    "callbacks_list = [lrate]\n",
    "\n",
    "# Fit the model\n",
    "model.fit(X, Y, validation_split=0.33, nb_epoch=50, batch_size=28, callbacks=callbacks_list)"
   ]
  },
  {
   "cell_type": "markdown",
   "metadata": {},
   "source": [
    "Running the example results in a classification accuracy of 99.14% on the validation dataset, again an improvement over the baseline for the model on the problem."
   ]
  },
  {
   "cell_type": "markdown",
   "metadata": {},
   "source": [
    "## Tips for Using Learning Rate Schedules\n",
    "\n",
    "This section lists some tips and tricks to consider when using learning rate schedules with neural networks.\n",
    "\n",
    "- **Increase the initial learning rate**. Because the learning rate will very likely decrease, start with a larger value to decrease from. A larger learning rate will result in a lot larger changes to the weights, at least in the beginning, allowing you to benefit from the fine tuning later.\n",
    "- **Use a large momentum**. Using a larger momentum value will help the optimization algorithm to continue to make updates in the right direction when your learning rate shrinks to small values.\n",
    "- **Experiment with different schedules**. It will not be clear which learning rate schedule to use so try a few with different configuration options and see what works best on your problem. Also try schedules that change exponentially and even schedules that respond to the accuracy of your model on the training or test datasets."
   ]
  },
  {
   "cell_type": "code",
   "execution_count": null,
   "metadata": {
    "collapsed": true
   },
   "outputs": [],
   "source": []
  }
 ],
 "metadata": {
  "kernelspec": {
   "display_name": "Python 2",
   "language": "python",
   "name": "python2"
  },
  "language_info": {
   "codemirror_mode": {
    "name": "ipython",
    "version": 2
   },
   "file_extension": ".py",
   "mimetype": "text/x-python",
   "name": "python",
   "nbconvert_exporter": "python",
   "pygments_lexer": "ipython2",
   "version": "2.7.10"
  }
 },
 "nbformat": 4,
 "nbformat_minor": 0
}
