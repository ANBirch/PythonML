{
 "cells": [
  {
   "cell_type": "markdown",
   "metadata": {},
   "source": [
    "# How To Load Machine Learning Data in Python\n",
    "http://machinelearningmastery.com/load-machine-learning-data-python/"
   ]
  },
  {
   "cell_type": "markdown",
   "metadata": {},
   "source": [
    "You must be able to load your data before you can start your machine learning project.\n",
    "\n",
    "The most common format for machine learning data is CSV files. There are a number of ways to load a CSV file in Python.\n",
    "\n",
    "In this post you will discover the different ways that you can use to load your machine learning data in Python.\n",
    "\n",
    "Let’s get started.\n",
    "\n",
    "## Considerations When Loading CSV Data\n",
    "\n",
    "There are a number of considerations when loading your machine learning data from CSV files.\n",
    "\n",
    "For reference, you can learn a lot about the expectations for CSV files by reviewing the CSV request for comment titled [Common Format and MIME Type for Comma-Separated Values (CSV) Files](https://tools.ietf.org/html/rfc4180).\n",
    "\n",
    "### CSV File Header\n",
    "\n",
    "Does your data have a file header?\n",
    "\n",
    "If so this can help in automatically assigning names to each column of data. If not, you may need to name your attributes manually.\n",
    "\n",
    "Either way, you should explicitly specify whether or not your CSV file had a file header when loading your data.\n",
    "\n",
    "### Comments\n",
    "\n",
    "Does your data have comments?\n",
    "\n",
    "Comments in a CSV file are indicated by a hash (“#”) at the start of a line.\n",
    "\n",
    "If you have comments in your file, depending on the method used to load your data, you may need to indicate whether or not to expect comments and the character to expect to signify a comment line.\n",
    "\n",
    "### Delimiter\n",
    "\n",
    "The standard delimiter that separates values in fields is the comma (“,”) character.\n",
    "\n",
    "Your file could use a different delimiter like tab (“\\t”) in which case you must specify it explicitly.\n",
    "\n",
    "### Quotes\n",
    "\n",
    "Sometimes field values can have spaces. In these CSV files the values are often quoted.\n",
    "\n",
    "The default quote character is the double quotation marks “\\””. Other characters can be used, and you must specify the quote character used in your file."
   ]
  },
  {
   "cell_type": "markdown",
   "metadata": {},
   "source": [
    "## Machine Learning Data Loading Recipes\n",
    "\n",
    "Each recipe is standalone.\n",
    "\n",
    "This means that you can copy and paste it into your project and use it immediately.\n",
    "\n",
    "If you have any questions about these recipes or suggested improvements, please leave a comment and I will do my best to answer.\n",
    "\n",
    "### Load CSV File With NumPy\n",
    "\n",
    "You can load your CSV data using NumPy and the numpy.loadtxt() function.\n",
    "\n",
    "This function assumes no header row and all data has the same format. The example below assumes that the file pima-indians-diabetes.data.csv is in your current working directory."
   ]
  },
  {
   "cell_type": "code",
   "execution_count": 6,
   "metadata": {
    "collapsed": false
   },
   "outputs": [
    {
     "name": "stdout",
     "output_type": "stream",
     "text": [
      "(768, 9)\n"
     ]
    }
   ],
   "source": [
    "# Load CSV\n",
    "import numpy\n",
    "filename = 'pima-indians-diabetes.data.csv'\n",
    "raw_data = open(filename, 'rb')\n",
    "data = numpy.loadtxt(raw_data, delimiter=\",\")\n",
    "print(data.shape)"
   ]
  },
  {
   "cell_type": "markdown",
   "metadata": {},
   "source": [
    "### Load CSV File With Pandas\n",
    "\n",
    "You can load your CSV data using Pandas and the pandas.read_csv() function.\n",
    "\n",
    "This function is very flexible and is perhaps my recommended approach for loading your machine learning data. The function returns a [pandas.DataFrame](http://pandas.pydata.org/pandas-docs/stable/generated/pandas.DataFrame.html) that you can immediately start summarizing and plotting.\n",
    "\n",
    "The example below assumes that the ‘pima-indians-diabetes.data.csv‘ file is in the current working directory."
   ]
  },
  {
   "cell_type": "code",
   "execution_count": 9,
   "metadata": {
    "collapsed": false
   },
   "outputs": [
    {
     "name": "stdout",
     "output_type": "stream",
     "text": [
      "(768, 9)\n"
     ]
    }
   ],
   "source": [
    "# Load CSV using Pandas\n",
    "import pandas\n",
    "filename = 'pima-indians-diabetes.data.csv'\n",
    "names = ['preg', 'plas', 'pres', 'skin', 'test', 'mass', 'pedi', 'age', 'class']\n",
    "data = pandas.read_csv(filename, names=names)\n",
    "print(data.shape)"
   ]
  },
  {
   "cell_type": "code",
   "execution_count": null,
   "metadata": {
    "collapsed": true
   },
   "outputs": [],
   "source": []
  }
 ],
 "metadata": {
  "kernelspec": {
   "display_name": "Python 3",
   "language": "python",
   "name": "python3"
  },
  "language_info": {
   "codemirror_mode": {
    "name": "ipython",
    "version": 3
   },
   "file_extension": ".py",
   "mimetype": "text/x-python",
   "name": "python",
   "nbconvert_exporter": "python",
   "pygments_lexer": "ipython3",
   "version": "3.4.4"
  }
 },
 "nbformat": 4,
 "nbformat_minor": 0
}
