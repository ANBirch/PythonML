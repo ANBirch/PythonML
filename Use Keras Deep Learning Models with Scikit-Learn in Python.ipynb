{
 "cells": [
  {
   "cell_type": "markdown",
   "metadata": {},
   "source": [
    "# Use Keras Deep Learning Models with Scikit-Learn in Python\n",
    "http://machinelearningmastery.com/use-keras-deep-learning-models-scikit-learn-python/"
   ]
  },
  {
   "cell_type": "markdown",
   "metadata": {},
   "source": [
    "Keras is one of the most popular deep learning libraries in Python for research and development because of its simplicity and ease of use.\n",
    "\n",
    "The scikit-learn library is the most popular library for general machine learning in Python.\n",
    "\n",
    "In this post you will discover how you can use deep learning models from Keras with the scikit-learn library in Python.\n",
    "\n",
    "This will allow you to leverage the power of the scikit-learn library for tasks like model evaluation and model hyper-parameter optimization.\n",
    "\n",
    "Let’s get started."
   ]
  },
  {
   "cell_type": "markdown",
   "metadata": {},
   "source": [
    "## Overview\n",
    "\n",
    "Keras is a popular library for deep learning in Python, but the focus of the library is deep learning. In fact it strives for minimalism, focusing on only what you need to quickly and simply define and build deep learning models.\n",
    "\n",
    "The scikit-learn library in Python is built upon the SciPy stack for efficient numerical computation. It is a fully featured library for general machine learning and provides many utilities that are useful in the development of deep learning models. Not least:\n",
    "\n",
    "- Evaluation of models using resampling methods like k-fold cross validation.\n",
    "- Efficient search and evaluation of model hyper-parameters.\n",
    "\n",
    "The Keras library provides a convenient wrapper for deep learning models to be used as classification or regression estimators in scikit-learn.\n",
    "\n",
    "In the next sections we will work through examples of using the KerasClassifier wrapper for a classification neural network created in Keras and used in the scikit-learn library.\n",
    "\n",
    "The test problem is the [Pima Indians onset of diabetes classification dataset](http://archive.ics.uci.edu/ml/datasets/Pima+Indians+Diabetes). This is a small dataset with all numerical attributes that is easy to work with. [Download the dataset](http://archive.ics.uci.edu/ml/machine-learning-databases/pima-indians-diabetes/pima-indians-diabetes.data) and place it in your currently working directly with the name **pima-indians-diabetes.csv**.\n",
    "\n",
    "The following examples assume you have successfully installed Keras and scikit-learn."
   ]
  },
  {
   "cell_type": "markdown",
   "metadata": {},
   "source": [
    "## Evaluate Deep Learning Models with Cross Validation\n",
    "\n",
    "The KerasClassifier and KerasRegressor classes in Keras take an argument **build_fn** which is the name of the function to call to get your model.\n",
    "\n",
    "You must define a function called whatever you like that defines your model, compiles it and returns it.\n",
    "\n",
    "In the example below we define a function **create_model()** that create a simple multi-layer neural network for the problem.\n",
    "\n",
    "We pass this function name to the KerasClassifier class by the **build_fn** argument. We also pass in additional arguments of **nb_epoch=150** and **batch_size=10**. These are automatically bundled up and passed on to the **fit()** function which is called internally by the KerasClassifier class.\n",
    "\n",
    "In this example we use the scikit-learn [StratifiedKFold](http://scikit-learn.org/stable/modules/generated/sklearn.cross_validation.StratifiedKFold.html) to perform 10-fold stratified cross validation. This is a resampling technique that can provide a robust estimate of the performance of a machine learning model on unseen data.\n",
    "\n",
    "We use the scikit-learn function **cross_val_score()** to evaluate our model using the cross validation scheme and print the results."
   ]
  },
  {
   "cell_type": "code",
   "execution_count": 1,
   "metadata": {
    "collapsed": false
   },
   "outputs": [
    {
     "name": "stderr",
     "output_type": "stream",
     "text": [
      "Using Theano backend.\n"
     ]
    },
    {
     "name": "stdout",
     "output_type": "stream",
     "text": [
      "0.747248805452\n"
     ]
    }
   ],
   "source": [
    "# MLP for Pima Indians Dataset with 10-fold cross validation via sklearn\n",
    "from keras.models import Sequential\n",
    "from keras.layers import Dense\n",
    "from keras.wrappers.scikit_learn import KerasClassifier\n",
    "from sklearn.cross_validation import StratifiedKFold\n",
    "from sklearn.cross_validation import cross_val_score\n",
    "import numpy\n",
    "import pandas\n",
    "\n",
    "# Function to create model, required for KerasClassifier\n",
    "def create_model():\n",
    "    # create model\n",
    "    model = Sequential()\n",
    "    model.add(Dense(12, input_dim=8, init='uniform', activation='relu'))\n",
    "    model.add(Dense(8, init='uniform', activation='relu'))\n",
    "    model.add(Dense(1, init='uniform', activation='sigmoid'))\n",
    "    \n",
    "    # Compile model\n",
    "    model.compile(loss='binary_crossentropy', optimizer='adam', metrics=['accuracy'])\n",
    "    return model\n",
    "\n",
    "# fix random seed for reproducibility\n",
    "seed = 7\n",
    "numpy.random.seed(seed)\n",
    "\n",
    "# load pima indians dataset\n",
    "dataset = numpy.loadtxt(\"Data\\pima-indians-diabetes.csv\", delimiter=\",\")\n",
    "\n",
    "# split into input (X) and output (Y) variables\n",
    "X = dataset[:,0:8]\n",
    "Y = dataset[:,8]\n",
    "\n",
    "# create model\n",
    "model = KerasClassifier(build_fn=create_model, nb_epoch=150, batch_size=10, verbose=0)\n",
    "\n",
    "# evaluate using 10-fold cross validation\n",
    "kfold = StratifiedKFold(y=Y, n_folds=10, shuffle=True, random_state=seed)\n",
    "results = cross_val_score(model, X, Y, cv=kfold)\n",
    "print(results.mean())"
   ]
  },
  {
   "cell_type": "markdown",
   "metadata": {},
   "source": [
    "## Grid Search Deep Learning Model Parameters\n",
    "\n",
    "The previous example showed how easy it is to wrap your deep learning model from Keras and use it in functions from the scikit-learn library.\n",
    "\n",
    "In this example we go a step further. The function that we specify to the **build_fn** argument when creating the KerasClassifier wrapper can take arguments. We can uses these arguments to further customize the construction of the model. In addition, we know we can provide arguments to the **fit()** function.\n",
    "\n",
    "In this example we use a grid search to evaluate different configurations for our neural network model and report on the combination that provides the best estimated performance.\n",
    "\n",
    "The **create_model()** function is defined to take two arguments optimizer and init, both of which must have default values. This will allow us to evaluate the effect of using different optimization algorithms and weight initialization schemes for our network.\n",
    "\n",
    "After creating our model, we define arrays of values for the parameter we wish to search, specifically:\n",
    "\n",
    "- Optimizers for searching different weight values.\n",
    "- Initializers for preparing the network weights using different schemes.\n",
    "- Epochs for training the model for different number of exposures to the training dataset.\n",
    "- Batches for varying the number of samples before a weight update.\n",
    "\n",
    "The options are specified into a dictionary and passed to the configuration of the [GridSearchCV](http://scikit-learn.org/stable/modules/generated/sklearn.grid_search.GridSearchCV.html) scikit-learn class. This class will evaluate a version of our neural network model for each combination of parameters (2 x 3 x 3 x 3 for the combinations of optimizers, initializations, epochs and batches). Each combination is then evaluated using the default of 3-fold stratified cross validation.\n",
    "\n",
    "That is a lot of models and a lot of computation. This is not a scheme that you want to use lightly because of the time it will take. It may be useful for you to design small experiments with a smaller subset of your data that will complete in a reasonable time. This is reasonable in this case because of the small network and the small dataset (less than 1000 instances and 9 attributes).\n",
    "\n",
    "Finally, the performance and combination of configurations for the best model are displayed, followed by the performance of all combinations of parameters."
   ]
  },
  {
   "cell_type": "code",
   "execution_count": 3,
   "metadata": {
    "collapsed": false
   },
   "outputs": [
    {
     "name": "stdout",
     "output_type": "stream",
     "text": [
      "Best: 0.751302 using {'batch_size': 5, 'nb_epoch': 150, 'init': 'normal', 'optimizer': 'rmsprop'}\n",
      "0.666667 (0.040386) with: {'batch_size': 5, 'nb_epoch': 50, 'init': 'glorot_uniform', 'optimizer': 'rmsprop'}\n",
      "0.664063 (0.011500) with: {'batch_size': 5, 'nb_epoch': 50, 'init': 'glorot_uniform', 'optimizer': 'adam'}\n",
      "0.674479 (0.031948) with: {'batch_size': 5, 'nb_epoch': 100, 'init': 'glorot_uniform', 'optimizer': 'rmsprop'}\n",
      "0.708333 (0.033197) with: {'batch_size': 5, 'nb_epoch': 100, 'init': 'glorot_uniform', 'optimizer': 'adam'}\n",
      "0.691406 (0.014616) with: {'batch_size': 5, 'nb_epoch': 150, 'init': 'glorot_uniform', 'optimizer': 'rmsprop'}\n",
      "0.727865 (0.011201) with: {'batch_size': 5, 'nb_epoch': 150, 'init': 'glorot_uniform', 'optimizer': 'adam'}\n",
      "0.707031 (0.033603) with: {'batch_size': 5, 'nb_epoch': 50, 'init': 'normal', 'optimizer': 'rmsprop'}\n",
      "0.718750 (0.014616) with: {'batch_size': 5, 'nb_epoch': 50, 'init': 'normal', 'optimizer': 'adam'}\n",
      "0.730469 (0.035516) with: {'batch_size': 5, 'nb_epoch': 100, 'init': 'normal', 'optimizer': 'rmsprop'}\n",
      "0.730469 (0.031894) with: {'batch_size': 5, 'nb_epoch': 100, 'init': 'normal', 'optimizer': 'adam'}\n",
      "0.751302 (0.027866) with: {'batch_size': 5, 'nb_epoch': 150, 'init': 'normal', 'optimizer': 'rmsprop'}\n",
      "0.709635 (0.038051) with: {'batch_size': 5, 'nb_epoch': 150, 'init': 'normal', 'optimizer': 'adam'}\n",
      "0.684896 (0.034104) with: {'batch_size': 5, 'nb_epoch': 50, 'init': 'uniform', 'optimizer': 'rmsprop'}\n",
      "0.703125 (0.011500) with: {'batch_size': 5, 'nb_epoch': 50, 'init': 'uniform', 'optimizer': 'adam'}\n",
      "0.710938 (0.011500) with: {'batch_size': 5, 'nb_epoch': 100, 'init': 'uniform', 'optimizer': 'rmsprop'}\n",
      "0.709635 (0.034104) with: {'batch_size': 5, 'nb_epoch': 100, 'init': 'uniform', 'optimizer': 'adam'}\n",
      "0.739583 (0.028940) with: {'batch_size': 5, 'nb_epoch': 150, 'init': 'uniform', 'optimizer': 'rmsprop'}\n",
      "0.744792 (0.028764) with: {'batch_size': 5, 'nb_epoch': 150, 'init': 'uniform', 'optimizer': 'adam'}\n",
      "0.644531 (0.022097) with: {'batch_size': 10, 'nb_epoch': 50, 'init': 'glorot_uniform', 'optimizer': 'rmsprop'}\n",
      "0.680990 (0.012075) with: {'batch_size': 10, 'nb_epoch': 50, 'init': 'glorot_uniform', 'optimizer': 'adam'}\n",
      "0.694010 (0.027866) with: {'batch_size': 10, 'nb_epoch': 100, 'init': 'glorot_uniform', 'optimizer': 'rmsprop'}\n",
      "0.667969 (0.044993) with: {'batch_size': 10, 'nb_epoch': 100, 'init': 'glorot_uniform', 'optimizer': 'adam'}\n",
      "0.571615 (0.174964) with: {'batch_size': 10, 'nb_epoch': 150, 'init': 'glorot_uniform', 'optimizer': 'rmsprop'}\n",
      "0.660156 (0.030758) with: {'batch_size': 10, 'nb_epoch': 150, 'init': 'glorot_uniform', 'optimizer': 'adam'}\n",
      "0.687500 (0.039192) with: {'batch_size': 10, 'nb_epoch': 50, 'init': 'normal', 'optimizer': 'rmsprop'}\n",
      "0.701823 (0.020505) with: {'batch_size': 10, 'nb_epoch': 50, 'init': 'normal', 'optimizer': 'adam'}\n",
      "0.697917 (0.017566) with: {'batch_size': 10, 'nb_epoch': 100, 'init': 'normal', 'optimizer': 'rmsprop'}\n",
      "0.727865 (0.021236) with: {'batch_size': 10, 'nb_epoch': 100, 'init': 'normal', 'optimizer': 'adam'}\n",
      "0.726562 (0.006379) with: {'batch_size': 10, 'nb_epoch': 150, 'init': 'normal', 'optimizer': 'rmsprop'}\n",
      "0.739583 (0.032734) with: {'batch_size': 10, 'nb_epoch': 150, 'init': 'normal', 'optimizer': 'adam'}\n",
      "0.718750 (0.016877) with: {'batch_size': 10, 'nb_epoch': 50, 'init': 'uniform', 'optimizer': 'rmsprop'}\n",
      "0.717448 (0.027126) with: {'batch_size': 10, 'nb_epoch': 50, 'init': 'uniform', 'optimizer': 'adam'}\n",
      "0.713542 (0.009744) with: {'batch_size': 10, 'nb_epoch': 100, 'init': 'uniform', 'optimizer': 'rmsprop'}\n",
      "0.704427 (0.017566) with: {'batch_size': 10, 'nb_epoch': 100, 'init': 'uniform', 'optimizer': 'adam'}\n",
      "0.744792 (0.016053) with: {'batch_size': 10, 'nb_epoch': 150, 'init': 'uniform', 'optimizer': 'rmsprop'}\n",
      "0.714844 (0.041829) with: {'batch_size': 10, 'nb_epoch': 150, 'init': 'uniform', 'optimizer': 'adam'}\n",
      "0.682292 (0.012890) with: {'batch_size': 20, 'nb_epoch': 50, 'init': 'glorot_uniform', 'optimizer': 'rmsprop'}\n",
      "0.686198 (0.022402) with: {'batch_size': 20, 'nb_epoch': 50, 'init': 'glorot_uniform', 'optimizer': 'adam'}\n",
      "0.691406 (0.012758) with: {'batch_size': 20, 'nb_epoch': 100, 'init': 'glorot_uniform', 'optimizer': 'rmsprop'}\n",
      "0.690104 (0.021710) with: {'batch_size': 20, 'nb_epoch': 100, 'init': 'glorot_uniform', 'optimizer': 'adam'}\n",
      "0.673177 (0.036966) with: {'batch_size': 20, 'nb_epoch': 150, 'init': 'glorot_uniform', 'optimizer': 'rmsprop'}\n",
      "0.700521 (0.028940) with: {'batch_size': 20, 'nb_epoch': 150, 'init': 'glorot_uniform', 'optimizer': 'adam'}\n",
      "0.696615 (0.014382) with: {'batch_size': 20, 'nb_epoch': 50, 'init': 'normal', 'optimizer': 'rmsprop'}\n",
      "0.712240 (0.009744) with: {'batch_size': 20, 'nb_epoch': 50, 'init': 'normal', 'optimizer': 'adam'}\n",
      "0.703125 (0.006379) with: {'batch_size': 20, 'nb_epoch': 100, 'init': 'normal', 'optimizer': 'rmsprop'}\n",
      "0.718750 (0.008438) with: {'batch_size': 20, 'nb_epoch': 100, 'init': 'normal', 'optimizer': 'adam'}\n",
      "0.727865 (0.019225) with: {'batch_size': 20, 'nb_epoch': 150, 'init': 'normal', 'optimizer': 'rmsprop'}\n",
      "0.739583 (0.021236) with: {'batch_size': 20, 'nb_epoch': 150, 'init': 'normal', 'optimizer': 'adam'}\n",
      "0.680990 (0.023510) with: {'batch_size': 20, 'nb_epoch': 50, 'init': 'uniform', 'optimizer': 'rmsprop'}\n",
      "0.688802 (0.016367) with: {'batch_size': 20, 'nb_epoch': 50, 'init': 'uniform', 'optimizer': 'adam'}\n",
      "0.709635 (0.025780) with: {'batch_size': 20, 'nb_epoch': 100, 'init': 'uniform', 'optimizer': 'rmsprop'}\n",
      "0.708333 (0.007366) with: {'batch_size': 20, 'nb_epoch': 100, 'init': 'uniform', 'optimizer': 'adam'}\n",
      "0.723958 (0.017566) with: {'batch_size': 20, 'nb_epoch': 150, 'init': 'uniform', 'optimizer': 'rmsprop'}\n",
      "0.730469 (0.025516) with: {'batch_size': 20, 'nb_epoch': 150, 'init': 'uniform', 'optimizer': 'adam'}\n"
     ]
    }
   ],
   "source": [
    "# MLP for Pima Indians Dataset with grid search via sklearn\n",
    "from keras.models import Sequential\n",
    "from keras.layers import Dense\n",
    "from keras.wrappers.scikit_learn import KerasClassifier\n",
    "from sklearn.grid_search import GridSearchCV\n",
    "import numpy\n",
    "import pandas\n",
    "\n",
    "# Function to create model, required for KerasClassifier\n",
    "def create_model(optimizer='rmsprop', init='glorot_uniform'):\n",
    "    # create model\n",
    "    model = Sequential()\n",
    "    model.add(Dense(12, input_dim=8, init=init, activation='relu'))\n",
    "    model.add(Dense(8, init=init, activation='relu'))\n",
    "    model.add(Dense(1, init=init, activation='sigmoid'))\n",
    "    \n",
    "    # Compile model\n",
    "    model.compile(loss='binary_crossentropy', optimizer=optimizer, metrics=['accuracy'])\n",
    "    return model\n",
    "\n",
    "# fix random seed for reproducibility\n",
    "seed = 7\n",
    "numpy.random.seed(seed)\n",
    "\n",
    "# load pima indians dataset\n",
    "dataset = numpy.loadtxt(\"pima-indians-diabetes.csv\", delimiter=\",\")\n",
    "\n",
    "# split into input (X) and output (Y) variables\n",
    "X = dataset[:,0:8]\n",
    "Y = dataset[:,8]\n",
    "\n",
    "# create model\n",
    "model = KerasClassifier(build_fn=create_model, verbose=0)\n",
    "\n",
    "# grid search epochs, batch size and optimizer\n",
    "optimizers = ['rmsprop', 'adam']\n",
    "init = ['glorot_uniform', 'normal', 'uniform']\n",
    "epochs = numpy.array([50, 100, 150])\n",
    "batches = numpy.array([5, 10, 20])\n",
    "param_grid = dict(optimizer=optimizers, nb_epoch=epochs, batch_size=batches, init=init)\n",
    "grid = GridSearchCV(estimator=model, param_grid=param_grid)\n",
    "grid_result = grid.fit(X, Y)\n",
    "\n",
    "# summarize results\n",
    "print(\"Best: %f using %s\" % (grid_result.best_score_, grid_result.best_params_))\n",
    "for params, mean_score, scores in grid_result.grid_scores_:\n",
    "    print(\"%f (%f) with: %r\" % (scores.mean(), scores.std(), params))"
   ]
  },
  {
   "cell_type": "markdown",
   "metadata": {},
   "source": [
    "This might take about 5 minutes to complete on your workstation executed on the CPU (rather than CPU). running the example shows the results below.\n",
    "\n",
    "We can see that the grid search discovered that using a uniform initialization scheme, rmsprop optimizer, 150 epochs and a batch size of 5 achieved the best cross validation score of approximately 75% on this problem."
   ]
  },
  {
   "cell_type": "markdown",
   "metadata": {},
   "source": [
    "## Summary\n",
    "\n",
    "In this post you discovered how you can wrap your Keras deep learning models and use them in the scikit-learn general machine learning library.\n",
    "\n",
    "You can see that using scikit-learn for standard machine learning operations such as model evaluation and model hyper parameter optimization can save a lot of time over implementing these schemes yourself.\n",
    "\n",
    "Wrapping your model allowed you to leverage powerful tools from scikit-learn to fit your deep learning models into your general machine learning process."
   ]
  },
  {
   "cell_type": "code",
   "execution_count": null,
   "metadata": {
    "collapsed": true
   },
   "outputs": [],
   "source": []
  }
 ],
 "metadata": {
  "kernelspec": {
   "display_name": "Python 2",
   "language": "python",
   "name": "python2"
  },
  "language_info": {
   "codemirror_mode": {
    "name": "ipython",
    "version": 2
   },
   "file_extension": ".py",
   "mimetype": "text/x-python",
   "name": "python",
   "nbconvert_exporter": "python",
   "pygments_lexer": "ipython2",
   "version": "2.7.10"
  }
 },
 "nbformat": 4,
 "nbformat_minor": 0
}
