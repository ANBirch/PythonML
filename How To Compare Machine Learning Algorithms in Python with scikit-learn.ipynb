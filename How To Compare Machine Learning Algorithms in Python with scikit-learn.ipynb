{
 "cells": [
  {
   "cell_type": "markdown",
   "metadata": {},
   "source": [
    "# How To Compare Machine Learning Algorithms in Python with scikit-learn\n",
    "http://machinelearningmastery.com/compare-machine-learning-algorithms-python-scikit-learn/"
   ]
  },
  {
   "cell_type": "markdown",
   "metadata": {},
   "source": [
    "It is important to compare the performance of multiple different machine learning algorithms consistently.\n",
    "\n",
    "In this post you will discover how you can create a test harness to compare multiple different machine learning algorithms in Python with scikit-learn.\n",
    "\n",
    "You can use this test harness as a template on your own machine learning problems and add more and different algorithms to compare.\n",
    "\n",
    "Let’s get started."
   ]
  },
  {
   "cell_type": "markdown",
   "metadata": {},
   "source": [
    "## Choose The Best Machine Learning Model\n",
    "\n",
    "How do you choose the best model for your problem?\n",
    "\n",
    "When you work on a machine learning project, you often end up with multiple good models to choose from. Each model will have different performance characteristics.\n",
    "\n",
    "Using resampling methods like cross validation, you can get an estimate for how accurate each model may be on unseen data. You need to be able to use these estimates to choose one or two best models from the suite of models that you have created.\n",
    "\n",
    "### Compare Machine Learning Models Carefully\n",
    "\n",
    "When you have a new dataset, it is a good idea to visualize the data using different techniques in order to look at the data from different perspectives.\n",
    "\n",
    "The same idea applies to model selection. You should use a number of different ways of looking at the estimated accuracy of your machine learning algorithms in order to choose the one or two to finalize.\n",
    "\n",
    "A way to do this is to use different visualization methods to show the average accuracy, variance and other properties of the distribution of model accuracies.\n",
    "\n",
    "In the next section you will discover exactly how you can do that in Python with scikit-learn."
   ]
  },
  {
   "cell_type": "markdown",
   "metadata": {},
   "source": [
    "## Compare Machine Learning Algorithms Consistently\n",
    "\n",
    "The key to a fair comparison of machine learning algorithms is ensuring that each algorithm is evaluated in the same way on the same data.\n",
    "\n",
    "You can achieve this by forcing each algorithm to be evaluated on a consistent test harness.\n",
    "\n",
    "In the example below 6 different algorithms are compared:\n",
    "\n",
    "1. Logistic Regression\n",
    "2. Linear Discriminant Analysis\n",
    "3. K-Nearest Neighbors\n",
    "4. Classification and Regression Trees\n",
    "5. Naive Bayes\n",
    "6. Support Vector Machines\n",
    "\n",
    "The problem is a standard binary classification dataset from the UCI machine learning repository called the [Pima Indians onset of diabetes](https://archive.ics.uci.edu/ml/datasets/Pima+Indians+Diabetes) problem. The problem has two classes and eight numeric input variables of varying scales.\n",
    "\n",
    "The 10-fold cross validation procedure is used to evaluate each algorithm, importantly configured with the same random seed to ensure that the same splits to the training data are performed and that each algorithms is evaluated in precisely the same way.\n",
    "\n",
    "Each algorithm is given a short name, useful for summarizing results afterward."
   ]
  },
  {
   "cell_type": "code",
   "execution_count": 2,
   "metadata": {
    "collapsed": false
   },
   "outputs": [
    {
     "name": "stdout",
     "output_type": "stream",
     "text": [
      "LR: 0.769515 (0.048411)\n",
      "LDA: 0.773462 (0.051592)\n",
      "KNN: 0.726555 (0.061821)\n",
      "CART: 0.688705 (0.063231)\n",
      "NB: 0.755178 (0.042766)\n",
      "SVM: 0.651025 (0.072141)\n"
     ]
    },
    {
     "data": {
      "image/png": "[encoded data removed]",
      "text/plain": [
       "<matplotlib.figure.Figure at 0xa713fd0>"
      ]
     },
     "metadata": {},
     "output_type": "display_data"
    }
   ],
   "source": [
    "# Compare Algorithms\n",
    "import pandas\n",
    "import matplotlib.pyplot as plt\n",
    "from sklearn import cross_validation\n",
    "from sklearn.linear_model import LogisticRegression\n",
    "from sklearn.tree import DecisionTreeClassifier\n",
    "from sklearn.neighbors import KNeighborsClassifier\n",
    "from sklearn.discriminant_analysis import LinearDiscriminantAnalysis\n",
    "from sklearn.naive_bayes import GaussianNB\n",
    "from sklearn.svm import SVC\n",
    "%matplotlib inline\n",
    "\n",
    "# load dataset\n",
    "url = \"https://archive.ics.uci.edu/ml/machine-learning-databases/pima-indians-diabetes/pima-indians-diabetes.data\"\n",
    "names = ['preg', 'plas', 'pres', 'skin', 'test', 'mass', 'pedi', 'age', 'class']\n",
    "dataframe = pandas.read_csv(url, names=names)\n",
    "array = dataframe.values\n",
    "X = array[:,0:8]\n",
    "Y = array[:,8]\n",
    "\n",
    "# prepare configuration for cross validation test harness\n",
    "num_folds = 10\n",
    "num_instances = len(X)\n",
    "seed = 7\n",
    "\n",
    "# prepare models\n",
    "models = []\n",
    "models.append(('LR', LogisticRegression()))\n",
    "models.append(('LDA', LinearDiscriminantAnalysis()))\n",
    "models.append(('KNN', KNeighborsClassifier()))\n",
    "models.append(('CART', DecisionTreeClassifier()))\n",
    "models.append(('NB', GaussianNB()))\n",
    "models.append(('SVM', SVC()))\n",
    "\n",
    "# evaluate each model in turn\n",
    "results = []\n",
    "names = []\n",
    "scoring = 'accuracy'\n",
    "for name, model in models:\n",
    "    kfold = cross_validation.KFold(n=num_instances, n_folds=num_folds, random_state=seed)\n",
    "    cv_results = cross_validation.cross_val_score(model, X, Y, cv=kfold, scoring=scoring)\n",
    "    results.append(cv_results)\n",
    "    names.append(name)\n",
    "    msg = \"%s: %f (%f)\" % (name, cv_results.mean(), cv_results.std())\n",
    "    print(msg)\n",
    "\n",
    "# boxplot algorithm comparison\n",
    "fig = plt.figure()\n",
    "fig.suptitle('Algorithm Comparison')\n",
    "ax = fig.add_subplot(111)\n",
    "plt.boxplot(results)\n",
    "ax.set_xticklabels(names);"
   ]
  },
  {
   "cell_type": "markdown",
   "metadata": {},
   "source": [
    "Running the example provides a list of each algorithm short name, the mean accuracy and the standard deviation accuracy.\n",
    "\n",
    "The example also provides a box and whisker plot showing the spread of the accuracy scores across each cross validation fold for each algorithm.\n",
    "\n",
    "From these results, it would suggest that both **logistic regression** and **linear discriminate analysis** are perhaps worthy of further study on this problem."
   ]
  },
  {
   "cell_type": "markdown",
   "metadata": {},
   "source": [
    "## Summary\n",
    "\n",
    "In this post you discovered how to evaluate multiple different machine learning algorithms on a dataset in Python with scikit-learn.\n",
    "\n",
    "You learned how to both use the same test harness to evaluate the algorithms and how to summarize the results both numerically and using a box and whisker plot.\n",
    "\n",
    "You can use this recipe as a template for evaluating multiple algorithms on your own problems."
   ]
  },
  {
   "cell_type": "code",
   "execution_count": null,
   "metadata": {
    "collapsed": true
   },
   "outputs": [],
   "source": []
  }
 ],
 "metadata": {
  "kernelspec": {
   "display_name": "Python 3",
   "language": "python",
   "name": "python3"
  },
  "language_info": {
   "codemirror_mode": {
    "name": "ipython",
    "version": 3
   },
   "file_extension": ".py",
   "mimetype": "text/x-python",
   "name": "python",
   "nbconvert_exporter": "python",
   "pygments_lexer": "ipython3",
   "version": "3.4.4"
  }
 },
 "nbformat": 4,
 "nbformat_minor": 0
}
